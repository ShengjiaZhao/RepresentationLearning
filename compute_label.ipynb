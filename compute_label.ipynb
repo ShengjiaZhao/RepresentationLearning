{
 "cells": [
  {
   "cell_type": "code",
   "execution_count": 55,
   "metadata": {},
   "outputs": [],
   "source": [
    "import torch\n",
    "import torchvision.models as models\n",
    "from dataset import *"
   ]
  },
  {
   "cell_type": "code",
   "execution_count": 56,
   "metadata": {},
   "outputs": [],
   "source": [
    "class Args:\n",
    "    def __init__(self):\n",
    "        self.batch_size = 4\n",
    "        self.gpu = 0\n",
    "\n",
    "args = Args()\n",
    "device = torch.device('cuda:%d' % args.gpu)\n",
    "args.device = device"
   ]
  },
  {
   "cell_type": "code",
   "execution_count": 49,
   "metadata": {},
   "outputs": [],
   "source": [
    "names = [\n",
    "    '__background__', 'person', 'bicycle', 'car', 'motorcycle', 'airplane', 'bus',\n",
    "    'train', 'truck', 'boat', 'traffic light', 'fire hydrant', 'N/A', 'stop sign',\n",
    "    'parking meter', 'bench', 'bird', 'cat', 'dog', 'horse', 'sheep', 'cow',\n",
    "    'elephant', 'bear', 'zebra', 'giraffe', 'N/A', 'backpack', 'umbrella', 'N/A', 'N/A',\n",
    "    'handbag', 'tie', 'suitcase', 'frisbee', 'skis', 'snowboard', 'sports ball',\n",
    "    'kite', 'baseball bat', 'baseball glove', 'skateboard', 'surfboard', 'tennis racket',\n",
    "    'bottle', 'N/A', 'wine glass', 'cup', 'fork', 'knife', 'spoon', 'bowl',\n",
    "    'banana', 'apple', 'sandwich', 'orange', 'broccoli', 'carrot', 'hot dog', 'pizza',\n",
    "    'donut', 'cake', 'chair', 'couch', 'potted plant', 'bed', 'N/A', 'dining table',\n",
    "    'N/A', 'N/A', 'toilet', 'N/A', 'tv', 'laptop', 'mouse', 'remote', 'keyboard', 'cell phone',\n",
    "    'microwave', 'oven', 'toaster', 'sink', 'refrigerator', 'N/A', 'book',\n",
    "    'clock', 'vase', 'scissors', 'teddy bear', 'hair drier', 'toothbrush'\n",
    "]"
   ]
  },
  {
   "cell_type": "code",
   "execution_count": 69,
   "metadata": {},
   "outputs": [],
   "source": [
    "model = models.detection.fasterrcnn_resnet50_fpn(pretrained=True)\n",
    "model = model.to(device)\n",
    "model.eval()\n",
    "\n",
    "train_dataset = YfccDataset(train=True, short=True)\n",
    "train_loader = DataLoader(train_dataset, batch_size=args.batch_size, shuffle=True, num_workers=4)"
   ]
  },
  {
   "cell_type": "code",
   "execution_count": null,
   "metadata": {},
   "outputs": [
    {
     "name": "stdout",
     "output_type": "stream",
     "text": [
      "Iteration 0, time 0.94\n",
      "Iteration 100, time 51.98\n",
      "Iteration 200, time 103.16\n",
      "Iteration 300, time 154.46\n",
      "Iteration 400, time 205.82\n",
      "Iteration 500, time 257.39\n",
      "Iteration 600, time 308.80\n",
      "Iteration 700, time 360.09\n",
      "Iteration 800, time 411.39\n",
      "Iteration 900, time 462.80\n",
      "Iteration 1000, time 514.09\n",
      "Iteration 1100, time 565.30\n"
     ]
    }
   ],
   "source": [
    "new_label = torch.zeros((len(train_dataset), 2), device=device)\n",
    "global_img_idx = 0\n",
    "start_time = time.time()\n",
    "\n",
    "for b_idx, data in enumerate(train_loader):\n",
    "    bx, by = data\n",
    "    bx = bx.permute(0, 3, 1, 2).to(device)\n",
    "    by = by.permute(0, 3, 1, 2).to(device)                   \n",
    "    with torch.no_grad():\n",
    "        prediction = model(bx)\n",
    "        for img_idx in range(args.batch_size):\n",
    "            label = prediction[img_idx]['labels']\n",
    "            box = prediction[img_idx]['boxes'][label == 1]\n",
    "            score = prediction[img_idx]['scores'][label == 1]\n",
    "\n",
    "            box = box[score > 0.9]\n",
    "            score = score[score > 0.9]\n",
    "            center_x = (box[:, 0] + box[:, 2]) / 2\n",
    "            center_y = (box[:, 1] + box[:, 3]) / 2\n",
    "\n",
    "            total_score = score.sum()\n",
    "            avg_location = box.mean()\n",
    "\n",
    "            new_label[global_img_idx, 1] = total_score\n",
    "            new_label[global_img_idx, 0] = avg_location\n",
    "            global_img_idx += 1\n",
    "#         plt.imshow(bx[box_id].permute(1, 2, 0).cpu())\n",
    "#         print(score)\n",
    "#         plt.scatter(center_x.cpu(), center_y.cpu())\n",
    "#         plt.show()\n",
    "    if b_idx % 100 == 0:\n",
    "        print(\"Iteration %d, time %.2f\" % (b_idx, time.time() - start_time))"
   ]
  },
  {
   "cell_type": "code",
   "execution_count": null,
   "metadata": {},
   "outputs": [],
   "source": [
    "torch.save(new_label, '/efs/yfcc/processed/label.pt')"
   ]
  }
 ],
 "metadata": {
  "kernelspec": {
   "display_name": "Environment (conda_pytorch_latest_p36)",
   "language": "python",
   "name": "conda_pytorch_latest_p36"
  },
  "language_info": {
   "codemirror_mode": {
    "name": "ipython",
    "version": 3
   },
   "file_extension": ".py",
   "mimetype": "text/x-python",
   "name": "python",
   "nbconvert_exporter": "python",
   "pygments_lexer": "ipython3",
   "version": "3.6.10"
  }
 },
 "nbformat": 4,
 "nbformat_minor": 4
}
